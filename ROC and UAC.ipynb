{
 "cells": [
  {
   "cell_type": "code",
   "execution_count": 1,
   "id": "eac83aec",
   "metadata": {},
   "outputs": [],
   "source": [
    "import pandas as pd"
   ]
  },
  {
   "cell_type": "code",
   "execution_count": 2,
   "id": "028f82a5",
   "metadata": {},
   "outputs": [
    {
     "data": {
      "text/html": [
       "<div>\n",
       "<style scoped>\n",
       "    .dataframe tbody tr th:only-of-type {\n",
       "        vertical-align: middle;\n",
       "    }\n",
       "\n",
       "    .dataframe tbody tr th {\n",
       "        vertical-align: top;\n",
       "    }\n",
       "\n",
       "    .dataframe thead th {\n",
       "        text-align: right;\n",
       "    }\n",
       "</style>\n",
       "<table border=\"1\" class=\"dataframe\">\n",
       "  <thead>\n",
       "    <tr style=\"text-align: right;\">\n",
       "      <th></th>\n",
       "      <th>Pregnancies</th>\n",
       "      <th>Glucose</th>\n",
       "      <th>BloodPressure</th>\n",
       "      <th>SkinThickness</th>\n",
       "      <th>Insulin</th>\n",
       "      <th>BMI</th>\n",
       "      <th>DiabetesPedigreeFunction</th>\n",
       "      <th>Age</th>\n",
       "      <th>Outcome</th>\n",
       "    </tr>\n",
       "  </thead>\n",
       "  <tbody>\n",
       "    <tr>\n",
       "      <th>0</th>\n",
       "      <td>6</td>\n",
       "      <td>148</td>\n",
       "      <td>72</td>\n",
       "      <td>35</td>\n",
       "      <td>0</td>\n",
       "      <td>33.6</td>\n",
       "      <td>0.627</td>\n",
       "      <td>50</td>\n",
       "      <td>1</td>\n",
       "    </tr>\n",
       "    <tr>\n",
       "      <th>1</th>\n",
       "      <td>1</td>\n",
       "      <td>85</td>\n",
       "      <td>66</td>\n",
       "      <td>29</td>\n",
       "      <td>0</td>\n",
       "      <td>26.6</td>\n",
       "      <td>0.351</td>\n",
       "      <td>31</td>\n",
       "      <td>0</td>\n",
       "    </tr>\n",
       "    <tr>\n",
       "      <th>2</th>\n",
       "      <td>8</td>\n",
       "      <td>183</td>\n",
       "      <td>64</td>\n",
       "      <td>0</td>\n",
       "      <td>0</td>\n",
       "      <td>23.3</td>\n",
       "      <td>0.672</td>\n",
       "      <td>32</td>\n",
       "      <td>1</td>\n",
       "    </tr>\n",
       "    <tr>\n",
       "      <th>3</th>\n",
       "      <td>1</td>\n",
       "      <td>89</td>\n",
       "      <td>66</td>\n",
       "      <td>23</td>\n",
       "      <td>94</td>\n",
       "      <td>28.1</td>\n",
       "      <td>0.167</td>\n",
       "      <td>21</td>\n",
       "      <td>0</td>\n",
       "    </tr>\n",
       "    <tr>\n",
       "      <th>4</th>\n",
       "      <td>0</td>\n",
       "      <td>137</td>\n",
       "      <td>40</td>\n",
       "      <td>35</td>\n",
       "      <td>168</td>\n",
       "      <td>43.1</td>\n",
       "      <td>2.288</td>\n",
       "      <td>33</td>\n",
       "      <td>1</td>\n",
       "    </tr>\n",
       "  </tbody>\n",
       "</table>\n",
       "</div>"
      ],
      "text/plain": [
       "   Pregnancies  Glucose  BloodPressure  SkinThickness  Insulin   BMI  \\\n",
       "0            6      148             72             35        0  33.6   \n",
       "1            1       85             66             29        0  26.6   \n",
       "2            8      183             64              0        0  23.3   \n",
       "3            1       89             66             23       94  28.1   \n",
       "4            0      137             40             35      168  43.1   \n",
       "\n",
       "   DiabetesPedigreeFunction  Age  Outcome  \n",
       "0                     0.627   50        1  \n",
       "1                     0.351   31        0  \n",
       "2                     0.672   32        1  \n",
       "3                     0.167   21        0  \n",
       "4                     2.288   33        1  "
      ]
     },
     "execution_count": 2,
     "metadata": {},
     "output_type": "execute_result"
    }
   ],
   "source": [
    "df = pd.read_csv('diabetes.csv')\n",
    "df.head()"
   ]
  },
  {
   "cell_type": "code",
   "execution_count": 3,
   "id": "54b9c34f",
   "metadata": {},
   "outputs": [
    {
     "name": "stdout",
     "output_type": "stream",
     "text": [
      "<class 'pandas.core.frame.DataFrame'>\n",
      "RangeIndex: 768 entries, 0 to 767\n",
      "Data columns (total 9 columns):\n",
      " #   Column                    Non-Null Count  Dtype  \n",
      "---  ------                    --------------  -----  \n",
      " 0   Pregnancies               768 non-null    int64  \n",
      " 1   Glucose                   768 non-null    int64  \n",
      " 2   BloodPressure             768 non-null    int64  \n",
      " 3   SkinThickness             768 non-null    int64  \n",
      " 4   Insulin                   768 non-null    int64  \n",
      " 5   BMI                       768 non-null    float64\n",
      " 6   DiabetesPedigreeFunction  768 non-null    float64\n",
      " 7   Age                       768 non-null    int64  \n",
      " 8   Outcome                   768 non-null    int64  \n",
      "dtypes: float64(2), int64(7)\n",
      "memory usage: 54.1 KB\n"
     ]
    }
   ],
   "source": [
    "df.info()"
   ]
  },
  {
   "cell_type": "markdown",
   "id": "9e6af506",
   "metadata": {},
   "source": [
    "## Let's focus on ROC and AUC\n",
    "1 represent that person have diabetes\n",
    "\n",
    "0 means that person don't have diabetes"
   ]
  },
  {
   "cell_type": "code",
   "execution_count": 4,
   "id": "c692213d",
   "metadata": {},
   "outputs": [],
   "source": [
    "x = df.drop('Outcome',axis = 1)\n",
    "y = df['Outcome']"
   ]
  },
  {
   "cell_type": "code",
   "execution_count": 5,
   "id": "28c27d8c",
   "metadata": {},
   "outputs": [
    {
     "data": {
      "text/plain": [
       "((768, 8), (768,))"
      ]
     },
     "execution_count": 5,
     "metadata": {},
     "output_type": "execute_result"
    }
   ],
   "source": [
    "x.shape, y.shape"
   ]
  },
  {
   "cell_type": "markdown",
   "id": "37d4370d",
   "metadata": {},
   "source": [
    "## Train Test Split "
   ]
  },
  {
   "cell_type": "code",
   "execution_count": 6,
   "id": "f739a264",
   "metadata": {},
   "outputs": [],
   "source": [
    "from sklearn.model_selection import train_test_split\n",
    "x_train,x_test,y_train , y_test = train_test_split(x,y,train_size=0.7, random_state=4)"
   ]
  },
  {
   "cell_type": "markdown",
   "id": "f074431e",
   "metadata": {},
   "source": [
    "## Feature Scaling"
   ]
  },
  {
   "cell_type": "code",
   "execution_count": 7,
   "id": "8c35fefe",
   "metadata": {},
   "outputs": [],
   "source": [
    "from sklearn.preprocessing import StandardScaler\n",
    "ss = StandardScaler()\n",
    "x_train_scale =ss.fit_transform(x_train)\n",
    "x_test_scale=ss.transform(x_test)"
   ]
  },
  {
   "cell_type": "markdown",
   "id": "2e29fb43",
   "metadata": {},
   "source": [
    "## SVM classifier"
   ]
  },
  {
   "cell_type": "code",
   "execution_count": 9,
   "id": "94bedcdf",
   "metadata": {},
   "outputs": [],
   "source": [
    "from sklearn.svm import SVC\n",
    "svc = SVC(kernel='rbf', random_state=4)"
   ]
  },
  {
   "cell_type": "code",
   "execution_count": 16,
   "id": "b686361d",
   "metadata": {},
   "outputs": [],
   "source": [
    "svc.fit(x_train_scale, y_train)\n",
    "\n",
    "## let's get the confidence score instead of actuall prediction\n",
    "\n",
    "svc_prediction = svc.decision_function(x_test_scale)"
   ]
  },
  {
   "cell_type": "code",
   "execution_count": 17,
   "id": "33413c6d",
   "metadata": {
    "collapsed": true
   },
   "outputs": [
    {
     "data": {
      "text/plain": [
       "array([-0.33777515, -0.75241872, -1.63475672, -0.63182671, -1.24538884,\n",
       "        0.56725518, -0.13329718, -0.43052799,  1.10285736, -1.04694366,\n",
       "        0.66931522, -1.60244297, -0.15325179, -1.67395569, -1.44941521,\n",
       "        0.80199449,  1.94325567,  1.13132274, -1.79168871, -1.30875943,\n",
       "       -1.75916469,  0.93264148, -0.06657978,  0.12538386, -0.93441786,\n",
       "       -0.72856922, -1.39512272,  0.55277073, -0.16527057, -1.05255759,\n",
       "       -0.13952724, -2.01800343, -0.66093847, -1.71299201, -0.50516042,\n",
       "       -0.24502516,  0.80618496,  1.15078649, -1.32942823,  0.78535394,\n",
       "       -0.03734932, -0.42743901, -0.88955756,  0.8973108 , -1.70863029,\n",
       "       -0.74180668, -0.45660564,  0.84561168, -1.15741758, -1.82856576,\n",
       "        1.30975293, -0.25756236, -1.66181939,  0.37139341,  0.88274261,\n",
       "       -1.27975291, -1.09297372, -1.38668326, -1.42681755, -0.20603583,\n",
       "        0.07487796, -1.26001238,  0.44361848, -1.6308229 , -0.94314924,\n",
       "       -0.812823  , -1.53270244,  0.26022936, -1.18269136, -0.36888661,\n",
       "       -1.51198739, -0.09403833, -0.8747464 , -1.71811879, -1.84142165,\n",
       "        1.17834755, -0.45207373, -1.27857732, -1.54522867,  0.42822755,\n",
       "        1.53838745,  0.2047756 , -0.83434652,  1.33599989,  0.30109201,\n",
       "       -1.74223779, -1.98160951,  0.88746875, -1.04398627, -1.22722224,\n",
       "        0.26339142, -1.47860401, -0.64758455, -1.35838992, -1.38865233,\n",
       "        0.08247512, -1.45057633, -0.92168327,  0.25735202, -0.05871447,\n",
       "       -1.27582684,  0.37908917, -1.49897006, -0.59064295,  1.59330799,\n",
       "       -0.85431493, -1.51072891,  1.576836  , -0.83411861, -0.37561389,\n",
       "        0.71464018,  1.46778045,  1.27848959, -1.51674592, -0.18193779,\n",
       "       -1.65614323, -0.11188368, -0.0455937 , -0.25161473,  0.37623003,\n",
       "       -1.37446697, -1.53334822, -1.08827174, -1.61208051, -1.20829194,\n",
       "       -1.16810736, -1.02298597, -0.77734312, -1.21862216,  1.2556249 ,\n",
       "       -1.14678261, -0.58421107, -0.9778536 , -1.75157478,  0.60426164,\n",
       "       -1.83470369, -1.39795004, -1.28727377,  0.57300818,  0.23935233,\n",
       "       -1.53071546, -1.48746085, -1.2894703 , -0.62924074,  0.64248122,\n",
       "        0.79924029, -0.17398539,  0.13073541, -1.50409052,  0.01247859,\n",
       "       -1.73796187, -0.26294971,  0.79823612,  0.57144943, -0.08686108,\n",
       "       -1.62111277, -0.7645512 , -1.53937622,  0.14915565,  0.49975294,\n",
       "        0.88845203, -0.4057286 , -1.67795437, -1.26849594,  0.03837565,\n",
       "        0.08033012,  0.60942033, -1.24708423,  0.62647398, -0.21947798,\n",
       "        0.99479745,  0.9965441 , -1.5467496 , -0.60447671, -1.01569907,\n",
       "        0.09954319,  0.2325679 ,  1.54673089, -0.6598109 , -0.26531065,\n",
       "        0.59665271, -1.15429727, -1.84279581,  1.52575152, -0.58243461,\n",
       "       -1.47094851,  0.51384228, -0.04663228, -1.60878582, -0.53639891,\n",
       "       -1.8342494 , -0.84694813, -1.25143228, -0.49220782, -0.4429579 ,\n",
       "        0.09312401, -1.5322127 , -0.91232151, -0.67972685, -1.40049902,\n",
       "       -0.83258449, -0.03726988, -0.66253406, -1.58763113, -0.78200254,\n",
       "       -0.49914869,  0.4223383 , -1.46744049,  0.36918923,  0.15568269,\n",
       "       -1.15171187, -0.55417514,  1.32769861, -1.55927373, -1.31795976,\n",
       "       -0.84073045, -0.54377242, -0.43080794, -1.8759888 ,  0.18613459,\n",
       "       -1.40869959,  0.09767833,  1.21974268, -1.24561256, -1.59652911,\n",
       "        1.51500234,  0.58541653, -0.89551717, -0.8300052 , -1.01658712,\n",
       "       -0.20189843])"
      ]
     },
     "execution_count": 17,
     "metadata": {},
     "output_type": "execute_result"
    }
   ],
   "source": [
    "svc_prediction"
   ]
  },
  {
   "cell_type": "markdown",
   "id": "7a8f6313",
   "metadata": {},
   "source": [
    "## Logistic Model"
   ]
  },
  {
   "cell_type": "code",
   "execution_count": 11,
   "id": "2864c0ca",
   "metadata": {},
   "outputs": [
    {
     "data": {
      "text/plain": [
       "LogisticRegression()"
      ]
     },
     "execution_count": 11,
     "metadata": {},
     "output_type": "execute_result"
    }
   ],
   "source": [
    "from sklearn.linear_model import LogisticRegression\n",
    "lr = LogisticRegression()\n",
    "lr.fit(x_train_scale, y_train)"
   ]
  },
  {
   "cell_type": "markdown",
   "id": "3e5848a0",
   "metadata": {},
   "source": [
    "#### lr.decision_function(X) -- Predict confidence scores for samples."
   ]
  },
  {
   "cell_type": "code",
   "execution_count": 12,
   "id": "d8f22c9f",
   "metadata": {},
   "outputs": [],
   "source": [
    "prediction = lr.decision_function(x_test_scale)"
   ]
  },
  {
   "cell_type": "code",
   "execution_count": 13,
   "id": "3fec6756",
   "metadata": {},
   "outputs": [
    {
     "data": {
      "text/plain": [
       "array([-1.73370579, -2.33485267, -2.17867452, -0.52497192, -1.21724804,\n",
       "        1.63647341,  0.13890821, -0.56065753,  2.07133319, -1.28329814,\n",
       "        0.21276523, -2.7686965 , -1.34085864, -2.76744067, -1.89002689,\n",
       "        0.73878728,  1.90664448,  2.7818491 , -3.15809052, -3.0358925 ,\n",
       "       -2.04620087,  0.8060818 , -1.10934796,  1.91331825, -1.44168456,\n",
       "       -0.87208361, -1.99433524,  0.79136708, -0.93284407, -1.27214456,\n",
       "        0.58239582, -2.82595468, -0.97015868, -3.01504238, -0.12958514,\n",
       "       -0.36277236,  1.00722412, -0.09465402, -1.9290977 ,  1.57893457,\n",
       "        0.51593685, -0.60346195, -0.94162409,  0.94796503, -2.05812557,\n",
       "       -1.30993175, -0.72981834,  2.23680007, -1.1354074 , -2.53313071,\n",
       "        1.17397644,  0.95810249, -1.95005681,  0.64472753, -0.48562255,\n",
       "       -2.00025337, -1.04205672, -3.85126366, -1.88958078,  0.04603108,\n",
       "       -0.77276545, -2.12804921, -0.52820671, -3.27062846, -1.46013107,\n",
       "       -0.82891404, -2.06933608, -0.36692397, -0.82767453,  0.70820245,\n",
       "       -2.47171299, -0.7355336 , -1.00008301, -2.99024843, -2.46805031,\n",
       "        1.73249111, -1.02919972, -1.76881284, -2.09518079,  2.16190472,\n",
       "        1.47120861, -0.36254844, -1.90733655,  3.14462481,  0.4246416 ,\n",
       "       -2.89683361, -3.14983334,  2.2735026 , -1.24510379, -1.53118512,\n",
       "        0.34756007, -2.90655379, -0.97097342, -1.74353788, -2.19665668,\n",
       "       -1.0058941 , -1.89058657, -0.04251641,  1.14236049, -0.59062577,\n",
       "       -1.56007061, -0.00870203, -1.65839597, -0.75219964,  1.35253057,\n",
       "       -0.99107738, -2.25953701,  1.17543134, -0.73929594, -0.57274597,\n",
       "        1.55352881,  1.425732  ,  1.69049068, -2.96629141, -2.12351731,\n",
       "       -2.68357168, -0.49432591, -0.2214796 ,  0.50719227,  2.70726926,\n",
       "       -1.55711617, -2.16369756, -1.35537542, -1.93721578, -1.47555604,\n",
       "       -1.65041841,  0.07292478, -1.65874576, -1.8928522 ,  1.61584434,\n",
       "       -1.15483356, -2.02709826, -1.31427052, -2.32058544,  0.55021972,\n",
       "       -2.48737755, -1.87971485, -2.29208957,  0.06767046,  2.74831468,\n",
       "       -2.24376556, -2.7221224 , -1.54189673, -0.73308675,  0.65516025,\n",
       "        1.16583915,  0.3793402 , -0.27430498, -2.09451553, -0.29972661,\n",
       "       -2.65671954, -0.49874972,  0.90791683,  1.38984974, -1.59654699,\n",
       "       -3.74354384, -1.7663086 , -2.94928807,  0.34870989,  1.28522595,\n",
       "        0.67734473, -0.77286289, -2.82551104, -1.48440287, -0.44392772,\n",
       "       -0.1841537 ,  0.55923438, -1.94708417,  1.34467155, -0.66532818,\n",
       "        2.67637801,  3.38114229, -2.35770067, -0.34757962, -2.13480907,\n",
       "        1.33368112,  0.88929183,  1.57051388, -1.07993212, -0.38890543,\n",
       "        1.05509233, -2.74711234, -2.37057033,  2.0624537 , -1.58579833,\n",
       "       -2.49782656,  0.83921697, -0.36489471, -2.25343273, -0.72238303,\n",
       "       -3.11571966, -1.15502305, -1.50457214, -0.3622111 , -0.17296293,\n",
       "        0.45615924, -3.54412016, -1.00652311, -0.69211846, -0.66606205,\n",
       "       -0.74314376, -1.53942776, -1.73547421, -1.92496687, -5.67360018,\n",
       "       -5.08634148, -0.65383814, -2.22157771,  0.65667165,  1.84875782,\n",
       "       -1.43018555, -0.39557341,  1.4045963 , -1.5457294 , -1.70064575,\n",
       "       -0.70907552, -1.55260679, -1.01673978, -3.31535071,  0.1851755 ,\n",
       "       -2.30601173,  0.13228723,  1.27925107, -0.39307983, -2.62426611,\n",
       "        1.65764083,  0.9262219 , -0.82546637, -1.23469513, -1.22150516,\n",
       "       -1.19496238])"
      ]
     },
     "execution_count": 13,
     "metadata": {},
     "output_type": "execute_result"
    }
   ],
   "source": [
    "prediction"
   ]
  },
  {
   "cell_type": "markdown",
   "id": "6fe8dc20",
   "metadata": {},
   "source": [
    "### importing roc and auc "
   ]
  },
  {
   "cell_type": "code",
   "execution_count": 14,
   "id": "ad7a8e9e",
   "metadata": {},
   "outputs": [],
   "source": [
    "from sklearn.metrics import roc_curve, auc"
   ]
  },
  {
   "cell_type": "markdown",
   "id": "26a4f20f",
   "metadata": {},
   "source": [
    "### Roc Curve returns the fpr, tpr and the value of threshold"
   ]
  },
  {
   "cell_type": "code",
   "execution_count": 18,
   "id": "b238073c",
   "metadata": {},
   "outputs": [],
   "source": [
    "## For SVC \n",
    "svc_fpr,svc_tpr, svc_threshold = roc_curve(y_test, svc_prediction)\n",
    "\n",
    "\n",
    "## for logistic regression\n",
    "fpr, tpr , threshold = roc_curve(y_test,prediction)"
   ]
  },
  {
   "cell_type": "markdown",
   "id": "b6a9f033",
   "metadata": {},
   "source": [
    "### for AUC, we need to provide two parameters ROC and AUC"
   ]
  },
  {
   "cell_type": "code",
   "execution_count": 19,
   "id": "ea77fe97",
   "metadata": {},
   "outputs": [],
   "source": [
    "## for logistic regression\n",
    "result = auc(fpr,tpr)\n",
    "\n",
    "## for SVC\n",
    "result1 = auc(svc_fpr,svc_tpr)"
   ]
  },
  {
   "cell_type": "markdown",
   "id": "29a9bf67",
   "metadata": {},
   "source": [
    "### Now Let's plot the graph"
   ]
  },
  {
   "cell_type": "code",
   "execution_count": 20,
   "id": "a938c6ac",
   "metadata": {},
   "outputs": [],
   "source": [
    "import matplotlib.pyplot as plt"
   ]
  },
  {
   "cell_type": "markdown",
   "id": "2982dd74",
   "metadata": {},
   "source": [
    "### here we try to choose the threshold on the basic of the problem whether we want to increase tpr or reduce the fpr \n",
    "#### But we make sure that the value of the threshold would not  droped from the mid orange line "
   ]
  },
  {
   "cell_type": "markdown",
   "id": "328d120d",
   "metadata": {},
   "source": [
    "### if we need to define the model in one value we use value of AUC\n",
    "### Higher value means better model "
   ]
  },
  {
   "cell_type": "code",
   "execution_count": 22,
   "id": "d94fe77f",
   "metadata": {},
   "outputs": [
    {
     "data": {
      "image/png": "[encoded data removed]",
      "text/plain": [
       "<Figure size 500x500 with 1 Axes>"
      ]
     },
     "metadata": {
      "needs_background": "light"
     },
     "output_type": "display_data"
    }
   ],
   "source": [
    "plt.figure(figsize=(5, 5), dpi=100)\n",
    "plt.plot(fpr, tpr, label='Logistic_AUC = %0.2f' % result)\n",
    "plt.plot(svc_fpr,svc_tpr, label='SVC_AUC = %0.2f' % result1)\n",
    "plt.plot([0, 1], [0, 1], linestyle='--')\n",
    "plt.xlabel('False Positive Rate')\n",
    "plt.ylabel('True Positive Rate')\n",
    "plt.legend(loc='lower right')\n",
    "plt.show()"
   ]
  },
  {
   "cell_type": "markdown",
   "id": "f27a19d3",
   "metadata": {},
   "source": [
    "## Here overall we will prefer the logistic regression bcz it occupy more area under the curve \n",
    "### In order to choose the proper threshold we need to look at our problem whether we want to reduce fpr( use SVC at threshold of 0.57 )\n",
    "### Want to increase tpr at any cost without even caring about fpr(than use logistic regression at the threshold of 0.98)\n",
    "### if we want to moderate result than we will use Logistic regression at the threshold of 0.7 something "
   ]
  },
  {
   "cell_type": "code",
   "execution_count": 24,
   "id": "709de113",
   "metadata": {},
   "outputs": [
    {
     "data": {
      "image/png": "[encoded data removed]",
      "text/plain": [
       "<Figure size 500x500 with 1 Axes>"
      ]
     },
     "metadata": {
      "needs_background": "light"
     },
     "output_type": "display_data"
    }
   ],
   "source": [
    "plt.figure(figsize=(5, 5), dpi=100)\n",
    "plt.plot(fpr,tpr, marker='.', label='Logistic (auc = %0.3f)' % result)\n",
    "\n",
    "plt.xlabel('False Positive Rate -->')\n",
    "plt.ylabel('True Positive Rate -->')\n",
    "\n",
    "plt.legend()\n",
    "\n",
    "plt.show()"
   ]
  }
 ],
 "metadata": {
  "kernelspec": {
   "display_name": "Python 3 (ipykernel)",
   "language": "python",
   "name": "python3"
  },
  "language_info": {
   "codemirror_mode": {
    "name": "ipython",
    "version": 3
   },
   "file_extension": ".py",
   "mimetype": "text/x-python",
   "name": "python",
   "nbconvert_exporter": "python",
   "pygments_lexer": "ipython3",
   "version": "3.9.12"
  }
 },
 "nbformat": 4,
 "nbformat_minor": 5
}
